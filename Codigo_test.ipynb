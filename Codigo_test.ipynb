{
 "cells": [
  {
   "cell_type": "markdown",
   "id": "6eae83e4-8cc8-4928-b9d0-a472d92e86e1",
   "metadata": {},
   "source": [
    "## **Primer código**"
   ]
  },
  {
   "cell_type": "code",
   "execution_count": 1,
   "id": "aa4684fa-a65c-4f41-86c8-ba473d048352",
   "metadata": {},
   "outputs": [],
   "source": [
    "x = 10\n",
    "y = 20\n",
    "z = x + y"
   ]
  },
  {
   "cell_type": "code",
   "execution_count": 2,
   "id": "f46df722-05b8-4918-8463-6f9458686210",
   "metadata": {},
   "outputs": [
    {
     "data": {
      "text/plain": [
       "30"
      ]
     },
     "execution_count": 2,
     "metadata": {},
     "output_type": "execute_result"
    }
   ],
   "source": [
    "z"
   ]
  }
 ],
 "metadata": {
  "kernelspec": {
   "display_name": "Python 3 (ipykernel)",
   "language": "python",
   "name": "python3"
  },
  "language_info": {
   "codemirror_mode": {
    "name": "ipython",
    "version": 3
   },
   "file_extension": ".py",
   "mimetype": "text/x-python",
   "name": "python",
   "nbconvert_exporter": "python",
   "pygments_lexer": "ipython3",
   "version": "3.11.7"
  }
 },
 "nbformat": 4,
 "nbformat_minor": 5
}
